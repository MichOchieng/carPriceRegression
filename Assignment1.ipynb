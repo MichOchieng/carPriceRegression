{
 "cells": [
  {
   "cell_type": "code",
   "execution_count": 7,
   "id": "83fc1b5a",
   "metadata": {},
   "outputs": [],
   "source": [
    "import numpy as np\n",
    "import pandas as pd\n",
    "import seaborn as sns\n",
    "import matplotlib.pyplot as plt\n",
    "from sklearn.model_selection import train_test_split\n",
    "from sklearn.linear_model import LinearRegression\n",
    "from sklearn.metrics import mean_squared_error"
   ]
  },
  {
   "cell_type": "markdown",
   "id": "ad47c60d",
   "metadata": {},
   "source": [
    "# Q2 - Adding features"
   ]
  },
  {
   "cell_type": "markdown",
   "id": "5928f06f",
   "metadata": {},
   "source": [
    "## (a) "
   ]
  },
  {
   "cell_type": "markdown",
   "id": "8d5b8729",
   "metadata": {},
   "source": [
    "## Setting data"
   ]
  },
  {
   "cell_type": "code",
   "execution_count": 3,
   "id": "d041dd4e",
   "metadata": {},
   "outputs": [
    {
     "data": {
      "text/html": [
       "<div>\n",
       "<style scoped>\n",
       "    .dataframe tbody tr th:only-of-type {\n",
       "        vertical-align: middle;\n",
       "    }\n",
       "\n",
       "    .dataframe tbody tr th {\n",
       "        vertical-align: top;\n",
       "    }\n",
       "\n",
       "    .dataframe thead th {\n",
       "        text-align: right;\n",
       "    }\n",
       "</style>\n",
       "<table border=\"1\" class=\"dataframe\">\n",
       "  <thead>\n",
       "    <tr style=\"text-align: right;\">\n",
       "      <th></th>\n",
       "      <th>year</th>\n",
       "      <th>model</th>\n",
       "      <th>price</th>\n",
       "      <th>mileage</th>\n",
       "      <th>color</th>\n",
       "      <th>transmission</th>\n",
       "    </tr>\n",
       "  </thead>\n",
       "  <tbody>\n",
       "    <tr>\n",
       "      <th>0</th>\n",
       "      <td>2010</td>\n",
       "      <td>SES</td>\n",
       "      <td>16995</td>\n",
       "      <td>40539</td>\n",
       "      <td>Black</td>\n",
       "      <td>AUTO</td>\n",
       "    </tr>\n",
       "    <tr>\n",
       "      <th>1</th>\n",
       "      <td>2010</td>\n",
       "      <td>SEL</td>\n",
       "      <td>15889</td>\n",
       "      <td>24920</td>\n",
       "      <td>Black</td>\n",
       "      <td>AUTO</td>\n",
       "    </tr>\n",
       "    <tr>\n",
       "      <th>2</th>\n",
       "      <td>2010</td>\n",
       "      <td>SE</td>\n",
       "      <td>15499</td>\n",
       "      <td>7784</td>\n",
       "      <td>Black</td>\n",
       "      <td>AUTO</td>\n",
       "    </tr>\n",
       "    <tr>\n",
       "      <th>3</th>\n",
       "      <td>2010</td>\n",
       "      <td>SE</td>\n",
       "      <td>15499</td>\n",
       "      <td>35636</td>\n",
       "      <td>Black</td>\n",
       "      <td>AUTO</td>\n",
       "    </tr>\n",
       "    <tr>\n",
       "      <th>4</th>\n",
       "      <td>2011</td>\n",
       "      <td>SE</td>\n",
       "      <td>14992</td>\n",
       "      <td>4867</td>\n",
       "      <td>Black</td>\n",
       "      <td>AUTO</td>\n",
       "    </tr>\n",
       "  </tbody>\n",
       "</table>\n",
       "</div>"
      ],
      "text/plain": [
       "   year model  price  mileage  color transmission\n",
       "0  2010   SES  16995    40539  Black         AUTO\n",
       "1  2010   SEL  15889    24920  Black         AUTO\n",
       "2  2010    SE  15499     7784  Black         AUTO\n",
       "3  2010    SE  15499    35636  Black         AUTO\n",
       "4  2011    SE  14992     4867  Black         AUTO"
      ]
     },
     "execution_count": 3,
     "metadata": {},
     "output_type": "execute_result"
    }
   ],
   "source": [
    "carData = pd.read_csv(\"fordFocus.csv\")\n",
    "carData.head()"
   ]
  },
  {
   "cell_type": "markdown",
   "id": "3a0868a8",
   "metadata": {},
   "source": [
    "## Creating linear regression model"
   ]
  },
  {
   "cell_type": "code",
   "execution_count": 37,
   "id": "2e64a9ce",
   "metadata": {},
   "outputs": [
    {
     "name": "stdout",
     "output_type": "stream",
     "text": [
      "Y-Intercept:  -1653631.0780536244\n",
      "Slope:  830.5467423351473\n"
     ]
    }
   ],
   "source": [
    "features = ['year','mileage']\n",
    "XTrain, XTest, YTrain, YTest = train_test_split(\n",
    "    carData[features],\n",
    "    carData.price,\n",
    "    train_size=0.8,\n",
    "    test_size=0.2,\n",
    ")\n",
    "\n",
    "linearModel = LinearRegression()\n",
    "linearModel.fit(XTrain.values,YTrain)\n",
    "print('Y-Intercept: ', linearModel.intercept_)\n",
    "print('Slope: ', linearModel.coef_[0])\n"
   ]
  }
 ],
 "metadata": {
  "kernelspec": {
   "display_name": "Python 3 (ipykernel)",
   "language": "python",
   "name": "python3"
  },
  "language_info": {
   "codemirror_mode": {
    "name": "ipython",
    "version": 3
   },
   "file_extension": ".py",
   "mimetype": "text/x-python",
   "name": "python",
   "nbconvert_exporter": "python",
   "pygments_lexer": "ipython3",
   "version": "3.9.12"
  }
 },
 "nbformat": 4,
 "nbformat_minor": 5
}
